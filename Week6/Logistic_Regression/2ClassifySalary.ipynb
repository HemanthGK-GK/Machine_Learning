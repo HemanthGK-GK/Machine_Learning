{
 "cells": [
  {
   "cell_type": "code",
   "execution_count": 1,
   "id": "781a508a",
   "metadata": {},
   "outputs": [],
   "source": [
    "#importing library files\n",
    "\n",
    "import pandas as pd\n",
    "import numpy as np\n",
    "import seaborn as sns\n",
    "import matplotlib.pyplot as plt"
   ]
  },
  {
   "cell_type": "code",
   "execution_count": 71,
   "id": "1306ba2a",
   "metadata": {},
   "outputs": [
    {
     "data": {
      "text/html": [
       "<div>\n",
       "<style scoped>\n",
       "    .dataframe tbody tr th:only-of-type {\n",
       "        vertical-align: middle;\n",
       "    }\n",
       "\n",
       "    .dataframe tbody tr th {\n",
       "        vertical-align: top;\n",
       "    }\n",
       "\n",
       "    .dataframe thead th {\n",
       "        text-align: right;\n",
       "    }\n",
       "</style>\n",
       "<table border=\"1\" class=\"dataframe\">\n",
       "  <thead>\n",
       "    <tr style=\"text-align: right;\">\n",
       "      <th></th>\n",
       "      <th>age</th>\n",
       "      <th>workarea</th>\n",
       "      <th>ID</th>\n",
       "      <th>education</th>\n",
       "      <th>education-year</th>\n",
       "      <th>marital-status</th>\n",
       "      <th>occupation</th>\n",
       "      <th>relationship</th>\n",
       "      <th>race</th>\n",
       "      <th>sex</th>\n",
       "      <th>capital-gain</th>\n",
       "      <th>capital-loss</th>\n",
       "      <th>hours-per-week</th>\n",
       "      <th>native-country</th>\n",
       "      <th>salary</th>\n",
       "    </tr>\n",
       "  </thead>\n",
       "  <tbody>\n",
       "    <tr>\n",
       "      <th>0</th>\n",
       "      <td>50</td>\n",
       "      <td>Self-emp-not-inc</td>\n",
       "      <td>83311</td>\n",
       "      <td>Bachelors</td>\n",
       "      <td>13</td>\n",
       "      <td>Married-civ-spouse</td>\n",
       "      <td>Exec-managerial</td>\n",
       "      <td>Husband</td>\n",
       "      <td>White</td>\n",
       "      <td>Male</td>\n",
       "      <td>0</td>\n",
       "      <td>0</td>\n",
       "      <td>13</td>\n",
       "      <td>United-States</td>\n",
       "      <td>&lt;=50K</td>\n",
       "    </tr>\n",
       "    <tr>\n",
       "      <th>1</th>\n",
       "      <td>38</td>\n",
       "      <td>Private</td>\n",
       "      <td>215646</td>\n",
       "      <td>HS-grad</td>\n",
       "      <td>9</td>\n",
       "      <td>Divorced</td>\n",
       "      <td>Handlers-cleaners</td>\n",
       "      <td>Not-in-family</td>\n",
       "      <td>White</td>\n",
       "      <td>Male</td>\n",
       "      <td>0</td>\n",
       "      <td>0</td>\n",
       "      <td>40</td>\n",
       "      <td>United-States</td>\n",
       "      <td>&lt;=50K</td>\n",
       "    </tr>\n",
       "    <tr>\n",
       "      <th>2</th>\n",
       "      <td>53</td>\n",
       "      <td>Private</td>\n",
       "      <td>234721</td>\n",
       "      <td>11th</td>\n",
       "      <td>7</td>\n",
       "      <td>Married-civ-spouse</td>\n",
       "      <td>Handlers-cleaners</td>\n",
       "      <td>Husband</td>\n",
       "      <td>Black</td>\n",
       "      <td>Male</td>\n",
       "      <td>0</td>\n",
       "      <td>0</td>\n",
       "      <td>40</td>\n",
       "      <td>United-States</td>\n",
       "      <td>&lt;=50K</td>\n",
       "    </tr>\n",
       "    <tr>\n",
       "      <th>3</th>\n",
       "      <td>28</td>\n",
       "      <td>Private</td>\n",
       "      <td>338409</td>\n",
       "      <td>Bachelors</td>\n",
       "      <td>13</td>\n",
       "      <td>Married-civ-spouse</td>\n",
       "      <td>Prof-specialty</td>\n",
       "      <td>Wife</td>\n",
       "      <td>Black</td>\n",
       "      <td>Female</td>\n",
       "      <td>0</td>\n",
       "      <td>0</td>\n",
       "      <td>40</td>\n",
       "      <td>Cuba</td>\n",
       "      <td>&lt;=50K</td>\n",
       "    </tr>\n",
       "    <tr>\n",
       "      <th>4</th>\n",
       "      <td>37</td>\n",
       "      <td>Private</td>\n",
       "      <td>284582</td>\n",
       "      <td>Masters</td>\n",
       "      <td>14</td>\n",
       "      <td>Married-civ-spouse</td>\n",
       "      <td>Exec-managerial</td>\n",
       "      <td>Wife</td>\n",
       "      <td>White</td>\n",
       "      <td>Female</td>\n",
       "      <td>0</td>\n",
       "      <td>0</td>\n",
       "      <td>40</td>\n",
       "      <td>United-States</td>\n",
       "      <td>&lt;=50K</td>\n",
       "    </tr>\n",
       "  </tbody>\n",
       "</table>\n",
       "</div>"
      ],
      "text/plain": [
       "   age           workarea      ID   education  education-year  \\\n",
       "0   50   Self-emp-not-inc   83311   Bachelors              13   \n",
       "1   38            Private  215646     HS-grad               9   \n",
       "2   53            Private  234721        11th               7   \n",
       "3   28            Private  338409   Bachelors              13   \n",
       "4   37            Private  284582     Masters              14   \n",
       "\n",
       "        marital-status          occupation    relationship    race      sex  \\\n",
       "0   Married-civ-spouse     Exec-managerial         Husband   White     Male   \n",
       "1             Divorced   Handlers-cleaners   Not-in-family   White     Male   \n",
       "2   Married-civ-spouse   Handlers-cleaners         Husband   Black     Male   \n",
       "3   Married-civ-spouse      Prof-specialty            Wife   Black   Female   \n",
       "4   Married-civ-spouse     Exec-managerial            Wife   White   Female   \n",
       "\n",
       "   capital-gain  capital-loss  hours-per-week  native-country  salary  \n",
       "0             0             0              13   United-States   <=50K  \n",
       "1             0             0              40   United-States   <=50K  \n",
       "2             0             0              40   United-States   <=50K  \n",
       "3             0             0              40            Cuba   <=50K  \n",
       "4             0             0              40   United-States   <=50K  "
      ]
     },
     "execution_count": 71,
     "metadata": {},
     "output_type": "execute_result"
    }
   ],
   "source": [
    "#reading the file\n",
    "data=pd.read_csv(\"classification_2.csv\",sep=',')\n",
    "data.columns =  ['age', 'workarea', 'ID', \n",
    "           'education', 'education-year', \n",
    "           'marital-status', 'occupation', \n",
    "           'relationship', 'race', 'sex', \n",
    "           'capital-gain', 'capital-loss', \n",
    "           'hours-per-week', 'native-country', \n",
    "           'salary']\n",
    "\n",
    "data.head()\n"
   ]
  },
  {
   "cell_type": "code",
   "execution_count": 72,
   "id": "6b9b6536",
   "metadata": {},
   "outputs": [],
   "source": [
    "y = data[\"salary\"]\n",
    "dataset= data[['age','education-year','capital-gain','capital-loss','hours-per-week']]"
   ]
  },
  {
   "cell_type": "code",
   "execution_count": 73,
   "id": "1313ccdc",
   "metadata": {},
   "outputs": [],
   "source": [
    "y.replace([' <=50K',' >50K'],[0,1],inplace=True)"
   ]
  },
  {
   "cell_type": "code",
   "execution_count": 74,
   "id": "5c0a893f",
   "metadata": {},
   "outputs": [
    {
     "data": {
      "text/plain": [
       "array([[0.45205479, 0.8       , 0.        , 0.        , 0.12244898],\n",
       "       [0.28767123, 0.53333333, 0.        , 0.        , 0.39795918],\n",
       "       [0.49315068, 0.4       , 0.        , 0.        , 0.39795918],\n",
       "       ...,\n",
       "       [0.56164384, 0.53333333, 0.        , 0.        , 0.39795918],\n",
       "       [0.06849315, 0.53333333, 0.        , 0.        , 0.19387755],\n",
       "       [0.47945205, 0.53333333, 0.1502415 , 0.        , 0.39795918]])"
      ]
     },
     "execution_count": 74,
     "metadata": {},
     "output_type": "execute_result"
    }
   ],
   "source": [
    "def normalize(values):\n",
    "    return (values - values.min())/(values.max() - values.min())\n",
    "\n",
    "cols=['age','education-year','capital-gain','capital-loss','hours-per-week']\n",
    "data[cols] = data[cols].apply(normalize)\n",
    "\n",
    "X=data[cols]\n",
    "X=np.array(X)\n",
    "X"
   ]
  },
  {
   "cell_type": "code",
   "execution_count": 99,
   "id": "01e3a0ce",
   "metadata": {},
   "outputs": [],
   "source": [
    "train_index = int(0.8 * len(X))\n",
    "X_train, X_test = X[:train_index], X[train_index:]\n",
    "y_train, y_test = y[:train_index], y[train_index:]"
   ]
  },
  {
   "cell_type": "code",
   "execution_count": 100,
   "id": "55a78eff",
   "metadata": {},
   "outputs": [
    {
     "data": {
      "text/plain": [
       "array([[0.45205479, 0.8       , 0.        , 0.        , 0.12244898],\n",
       "       [0.28767123, 0.53333333, 0.        , 0.        , 0.39795918],\n",
       "       [0.49315068, 0.4       , 0.        , 0.        , 0.39795918],\n",
       "       ...,\n",
       "       [0.26027397, 0.73333333, 0.        , 0.        , 0.39795918],\n",
       "       [0.32876712, 0.8       , 0.        , 0.        , 0.39795918],\n",
       "       [0.17808219, 0.6       , 0.        , 0.        , 0.39795918]])"
      ]
     },
     "execution_count": 100,
     "metadata": {},
     "output_type": "execute_result"
    }
   ],
   "source": [
    "X_train"
   ]
  },
  {
   "cell_type": "code",
   "execution_count": 101,
   "id": "4474b931",
   "metadata": {},
   "outputs": [
    {
     "name": "stdout",
     "output_type": "stream",
     "text": [
      "-0.7997143092468842 -0.04705084090153804 -0.22738034399605542 0.0633415756380022 0.04303642750219635 -0.19268244957871994\n"
     ]
    }
   ],
   "source": [
    "a=0\n",
    "b=0\n",
    "c=0\n",
    "d=0\n",
    "e=0\n",
    "f=0\n",
    "\n",
    "#learning rate\n",
    "L = 0.01 \n",
    "#epoch for mininum iterations to find minimum rss/mse\n",
    "epochs = 1000  \n",
    "\n",
    "#number of observations\n",
    "n = float(len(X_train)) \n",
    "\n",
    "for i in range(epochs): \n",
    "    z = a+b*X_train[:,0]+c*X_train[:,1]+d*X_train[:,2]+e*X_train[:,3]+f*X_train[:,4]\n",
    "    h=1/(1+np.exp(-z))\n",
    "    \n",
    "    D_a = (1/n) * sum(h-y_train)\n",
    "    D_b = (1/n) * sum(X_train[:,0] * (h-y_train))\n",
    "    D_c = (1/n) * sum(X_train[:,1] * (h-y_train)) \n",
    "    D_d = (1/n) * sum(X_train[:,2] * (h-y_train))   \n",
    "    D_e = (1/n) * sum(X_train[:,3] * (h-y_train))\n",
    "    D_f = (1/n) * sum(X_train[:,4] * (h-y_train))\n",
    "   \n",
    "    a = a - L * D_a  \n",
    "    b = b - L * D_b\n",
    "    c = c - L * D_c  \n",
    "    d = d - L * D_d\n",
    "    e = e - L * D_e\n",
    "    f = f - L * D_f\n",
    "    \n",
    "    \n",
    "print (a,b,c,d,e,f)"
   ]
  },
  {
   "cell_type": "code",
   "execution_count": 102,
   "id": "4da8dbe6",
   "metadata": {},
   "outputs": [],
   "source": [
    "z1 = a+b*X_train[:,0]+c*X_train[:,1]+d*X_train[:,2]+e*X_train[:,3]+f*X_train[:,4]\n",
    "h_result=1/(1+np.exp(-z1))\n"
   ]
  },
  {
   "cell_type": "code",
   "execution_count": 103,
   "id": "8c06cbeb",
   "metadata": {},
   "outputs": [],
   "source": [
    "y_pred=[]\n",
    "\n",
    "for i in range(len(h_result)):\n",
    "    if h_result[i]>0.5:\n",
    "        y_pred.append(1)\n",
    "    elif h_result[i]<0.5:\n",
    "        y_pred.append(0)"
   ]
  },
  {
   "cell_type": "code",
   "execution_count": 108,
   "id": "f1010ce6",
   "metadata": {},
   "outputs": [
    {
     "data": {
      "text/plain": [
       "array([0.26376673, 0.26674532, 0.27080358, ..., 0.25819223, 0.25468735,\n",
       "       0.26479349])"
      ]
     },
     "execution_count": 108,
     "metadata": {},
     "output_type": "execute_result"
    }
   ],
   "source": [
    "h_result"
   ]
  },
  {
   "cell_type": "code",
   "execution_count": 113,
   "id": "05c0cd5e",
   "metadata": {},
   "outputs": [
    {
     "data": {
      "text/plain": [
       "0.7604038697788698"
      ]
     },
     "execution_count": 113,
     "metadata": {},
     "output_type": "execute_result"
    }
   ],
   "source": [
    "def accuracy(y_true, y_pred):\n",
    "    accuracy = np.mean(y_pred == y_true) \n",
    "    return accuracy\n",
    "accuracy(y_train,y_pred)"
   ]
  },
  {
   "cell_type": "code",
   "execution_count": null,
   "id": "3641034e",
   "metadata": {},
   "outputs": [],
   "source": []
  }
 ],
 "metadata": {
  "kernelspec": {
   "display_name": "Python 3 (ipykernel)",
   "language": "python",
   "name": "python3"
  },
  "language_info": {
   "codemirror_mode": {
    "name": "ipython",
    "version": 3
   },
   "file_extension": ".py",
   "mimetype": "text/x-python",
   "name": "python",
   "nbconvert_exporter": "python",
   "pygments_lexer": "ipython3",
   "version": "3.9.9"
  }
 },
 "nbformat": 4,
 "nbformat_minor": 5
}
