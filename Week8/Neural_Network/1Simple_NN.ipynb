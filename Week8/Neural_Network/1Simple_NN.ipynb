{
 "cells": [
  {
   "cell_type": "code",
   "execution_count": 36,
   "id": "4f113991",
   "metadata": {},
   "outputs": [],
   "source": [
    "# The data given in the url is related with direct marketing campaigns of a banking\n",
    "# institution. The marketing campaigns were based on phone calls. Often, more\n",
    "# than one contact to the same client was required, in order to access if the product\n",
    "# (bank term deposit) would be ('yes') or not ('no') subscribed. Build a model to\n",
    "# predict whether client will subscribe to term deposit\n",
    "\n",
    "import pandas as pd\n",
    "import numpy as np"
   ]
  },
  {
   "cell_type": "code",
   "execution_count": 37,
   "id": "715e4259",
   "metadata": {},
   "outputs": [
    {
     "data": {
      "text/html": [
       "<div>\n",
       "<style scoped>\n",
       "    .dataframe tbody tr th:only-of-type {\n",
       "        vertical-align: middle;\n",
       "    }\n",
       "\n",
       "    .dataframe tbody tr th {\n",
       "        vertical-align: top;\n",
       "    }\n",
       "\n",
       "    .dataframe thead th {\n",
       "        text-align: right;\n",
       "    }\n",
       "</style>\n",
       "<table border=\"1\" class=\"dataframe\">\n",
       "  <thead>\n",
       "    <tr style=\"text-align: right;\">\n",
       "      <th></th>\n",
       "      <th>age</th>\n",
       "      <th>contact</th>\n",
       "      <th>education</th>\n",
       "      <th>day</th>\n",
       "      <th>duration</th>\n",
       "      <th>campaign</th>\n",
       "      <th>pdays</th>\n",
       "      <th>previous</th>\n",
       "      <th>y</th>\n",
       "    </tr>\n",
       "  </thead>\n",
       "  <tbody>\n",
       "    <tr>\n",
       "      <th>0</th>\n",
       "      <td>30</td>\n",
       "      <td>cellular</td>\n",
       "      <td>primary</td>\n",
       "      <td>19</td>\n",
       "      <td>79</td>\n",
       "      <td>1</td>\n",
       "      <td>-1</td>\n",
       "      <td>0</td>\n",
       "      <td>no</td>\n",
       "    </tr>\n",
       "    <tr>\n",
       "      <th>1</th>\n",
       "      <td>33</td>\n",
       "      <td>cellular</td>\n",
       "      <td>secondary</td>\n",
       "      <td>11</td>\n",
       "      <td>220</td>\n",
       "      <td>1</td>\n",
       "      <td>339</td>\n",
       "      <td>4</td>\n",
       "      <td>no</td>\n",
       "    </tr>\n",
       "    <tr>\n",
       "      <th>2</th>\n",
       "      <td>35</td>\n",
       "      <td>cellular</td>\n",
       "      <td>tertiary</td>\n",
       "      <td>16</td>\n",
       "      <td>185</td>\n",
       "      <td>1</td>\n",
       "      <td>330</td>\n",
       "      <td>1</td>\n",
       "      <td>no</td>\n",
       "    </tr>\n",
       "    <tr>\n",
       "      <th>3</th>\n",
       "      <td>30</td>\n",
       "      <td>unknown</td>\n",
       "      <td>tertiary</td>\n",
       "      <td>3</td>\n",
       "      <td>199</td>\n",
       "      <td>4</td>\n",
       "      <td>-1</td>\n",
       "      <td>0</td>\n",
       "      <td>no</td>\n",
       "    </tr>\n",
       "    <tr>\n",
       "      <th>4</th>\n",
       "      <td>59</td>\n",
       "      <td>unknown</td>\n",
       "      <td>secondary</td>\n",
       "      <td>5</td>\n",
       "      <td>226</td>\n",
       "      <td>1</td>\n",
       "      <td>-1</td>\n",
       "      <td>0</td>\n",
       "      <td>no</td>\n",
       "    </tr>\n",
       "  </tbody>\n",
       "</table>\n",
       "</div>"
      ],
      "text/plain": [
       "   age   contact  education  day  duration  campaign  pdays  previous   y\n",
       "0   30  cellular    primary   19        79         1     -1         0  no\n",
       "1   33  cellular  secondary   11       220         1    339         4  no\n",
       "2   35  cellular   tertiary   16       185         1    330         1  no\n",
       "3   30   unknown   tertiary    3       199         4     -1         0  no\n",
       "4   59   unknown  secondary    5       226         1     -1         0  no"
      ]
     },
     "execution_count": 37,
     "metadata": {},
     "output_type": "execute_result"
    }
   ],
   "source": [
    "dataset=pd.read_csv(\"bank.csv\",sep=';')\n",
    "# dataset=dataset.head(50)\n",
    "dataset=dataset[['age','contact','education','day','duration','campaign','pdays','previous','y']]\n",
    "dataset.head()"
   ]
  },
  {
   "cell_type": "code",
   "execution_count": 38,
   "id": "aa3db51c",
   "metadata": {},
   "outputs": [
    {
     "data": {
      "text/plain": [
       "4521"
      ]
     },
     "execution_count": 38,
     "metadata": {},
     "output_type": "execute_result"
    }
   ],
   "source": [
    "dataset['y'].replace(['no','yes'],[0,1],inplace=True)\n",
    "dataset['contact'].replace(['unknown','cellular','telephone'],[0,1,2],inplace=True)\n",
    "dataset['education'].replace(['primary','secondary','tertiary','unknown'],[0,1,2,3],inplace=True)\n",
    "X=dataset[['age','contact']]\n",
    "Y=dataset['y']\n",
    "len(X)"
   ]
  },
  {
   "cell_type": "code",
   "execution_count": 39,
   "id": "7ab23cfb",
   "metadata": {},
   "outputs": [],
   "source": [
    "Z = np.zeros((X.shape))\n",
    "for i in range(len(X)):\n",
    "    Z[i, Y[i]] = 1"
   ]
  },
  {
   "cell_type": "code",
   "execution_count": 40,
   "id": "76fc18f2",
   "metadata": {},
   "outputs": [
    {
     "data": {
      "text/plain": [
       "(4521, 2)"
      ]
     },
     "execution_count": 40,
     "metadata": {},
     "output_type": "execute_result"
    }
   ],
   "source": [
    "X.shape"
   ]
  },
  {
   "cell_type": "code",
   "execution_count": 41,
   "id": "3d8fc3a8",
   "metadata": {},
   "outputs": [],
   "source": [
    "Wi_1 = np.random.randn(3, 2)\n",
    "Bi_1 = np.random.randn(3)\n",
    "Wi_2 = np.random.randn(3, 2)\n",
    "Bi_2 = np.random.randn(2)"
   ]
  },
  {
   "cell_type": "code",
   "execution_count": 42,
   "id": "9334ae6d",
   "metadata": {},
   "outputs": [
    {
     "data": {
      "text/plain": [
       "array([[ 0.35464839,  0.59283329,  0.49862868],\n",
       "       [ 1.27528312,  1.22095997, -0.02394479]])"
      ]
     },
     "execution_count": 42,
     "metadata": {},
     "output_type": "execute_result"
    }
   ],
   "source": [
    "Wi_1.T"
   ]
  },
  {
   "cell_type": "code",
   "execution_count": 43,
   "id": "7ba5aa9f",
   "metadata": {},
   "outputs": [
    {
     "data": {
      "text/plain": [
       "array([[30,  1],\n",
       "       [33,  1],\n",
       "       [35,  1],\n",
       "       ...,\n",
       "       [57,  1],\n",
       "       [28,  1],\n",
       "       [44,  1]], dtype=int64)"
      ]
     },
     "execution_count": 43,
     "metadata": {},
     "output_type": "execute_result"
    }
   ],
   "source": [
    "X=np.array(X)\n",
    "X"
   ]
  },
  {
   "cell_type": "code",
   "execution_count": 44,
   "id": "07607884",
   "metadata": {},
   "outputs": [
    {
     "data": {
      "text/plain": [
       "array([[11.91473484, 19.00595876, 14.93491575],\n",
       "       [12.97868002, 20.78445864, 16.4308018 ],\n",
       "       [13.6879768 , 21.97012523, 17.42805917],\n",
       "       ...,\n",
       "       [21.49024139, 35.01245767, 28.39789024],\n",
       "       [11.20543806, 17.82029218, 13.93765838],\n",
       "       [16.87981231, 27.30562486, 21.91571733]])"
      ]
     },
     "execution_count": 44,
     "metadata": {},
     "output_type": "execute_result"
    }
   ],
   "source": [
    "X.dot(Wi_1.T)"
   ]
  },
  {
   "cell_type": "code",
   "execution_count": 45,
   "id": "ce30509a",
   "metadata": {},
   "outputs": [],
   "source": [
    "def forward_prop(X, Wi_1, Bi_1, Wi_2, Bi_2):\n",
    "    #first layer \n",
    "    M = 1 / (1 + np.exp(-(X.dot(Wi_1.T) + Bi_1)))\n",
    "    # second layer\n",
    "    A = M.dot(Wi_2) + Bi_2\n",
    "    expA = np.exp(A)\n",
    "    Y = expA / expA.sum(axis=1, keepdims=True)\n",
    "    return Y, M"
   ]
  },
  {
   "cell_type": "code",
   "execution_count": 46,
   "id": "8591ff6f",
   "metadata": {},
   "outputs": [
    {
     "data": {
      "text/plain": [
       "(array([[0.97690362, 0.02309638],\n",
       "        [0.97690372, 0.02309628],\n",
       "        [0.97690375, 0.02309625],\n",
       "        ...,\n",
       "        [0.97690377, 0.02309623],\n",
       "        [0.97690346, 0.02309654],\n",
       "        [0.97690377, 0.02309623]]),\n",
       " array([[0.99999452, 0.99999999, 0.99999981],\n",
       "        [0.99999811, 1.        , 0.99999996],\n",
       "        [0.99999907, 1.        , 0.99999998],\n",
       "        ...,\n",
       "        [1.        , 1.        , 1.        ],\n",
       "        [0.99998885, 0.99999998, 0.99999949],\n",
       "        [0.99999996, 1.        , 1.        ]]))"
      ]
     },
     "execution_count": 46,
     "metadata": {},
     "output_type": "execute_result"
    }
   ],
   "source": [
    "forward_prop(X, Wi_1, Bi_1, Wi_2, Bi_2)"
   ]
  },
  {
   "cell_type": "code",
   "execution_count": 47,
   "id": "7734a80a",
   "metadata": {},
   "outputs": [],
   "source": [
    "#Returns gradient for Weight_2\n",
    "def diff_Wi_2(H, Z, Y):\n",
    "    return H.T.dot(Z - Y)"
   ]
  },
  {
   "cell_type": "code",
   "execution_count": 48,
   "id": "4f630c32",
   "metadata": {},
   "outputs": [],
   "source": [
    "#Returns gradient for Weight_2\n",
    "def diff_Wi_1(X, H, Z, output, Wi_2):\n",
    "    dZ = (Z - output).dot(Wi_2.T) * H * (1 - H)\n",
    "    return X.T.dot(dZ)"
   ]
  },
  {
   "cell_type": "code",
   "execution_count": 49,
   "id": "25cb11df",
   "metadata": {},
   "outputs": [],
   "source": [
    "# Returns derivative for both bias\n",
    "def diff_B2(Z, Y):\n",
    "    return (Z - Y).sum(axis=0)\n",
    "\n",
    "def diff_B1(Z, Y, Wi_2, H):\n",
    "    return ((Z - Y).dot(Wi_2.T) * H * (1 - H)).sum(axis=0)"
   ]
  },
  {
   "cell_type": "code",
   "execution_count": 50,
   "id": "070aa995",
   "metadata": {},
   "outputs": [],
   "source": [
    "learning_rate = 1e-3\n",
    "for epoch in range(5000):\n",
    "    output, hidden = forward_prop(X, Wi_1, Bi_1, Wi_2, Bi_2)\n",
    "    Wi_2 += learning_rate * diff_Wi_2(hidden, Z, output)\n",
    "    Bi_2 += learning_rate * diff_B2(Z, output)\n",
    "    Wi_1 += learning_rate * diff_Wi_1(X, hidden, Z, output, Wi_2).T\n",
    "    Bi_1 += learning_rate * diff_B1(Z, output, Wi_2, hidden)"
   ]
  },
  {
   "cell_type": "code",
   "execution_count": 51,
   "id": "9a227a8d",
   "metadata": {},
   "outputs": [
    {
     "name": "stdout",
     "output_type": "stream",
     "text": [
      " Accuracy of class No :  0.9674681255825134 \n",
      " Accuracy of class Yes : 0.03253187441748661\n"
     ]
    }
   ],
   "source": [
    "X_test =np.array([5,5])\n",
    "\n",
    "hidden_output = 1 / (1 + np.exp(-X_test.dot(Wi_1.T) - Bi_1))\n",
    "Outer_layer_output = hidden_output.dot(Wi_2) + Bi_2\n",
    "expA = np.exp(Outer_layer_output)\n",
    "Y = expA / expA.sum()\n",
    "print(\" Accuracy of class No :  {} \\n Accuracy of class Yes : {}\".format(Y[0],Y[1]))"
   ]
  },
  {
   "cell_type": "code",
   "execution_count": null,
   "id": "8b1a105b",
   "metadata": {},
   "outputs": [],
   "source": []
  },
  {
   "cell_type": "code",
   "execution_count": null,
   "id": "15ec2cfc",
   "metadata": {},
   "outputs": [],
   "source": []
  }
 ],
 "metadata": {
  "kernelspec": {
   "display_name": "Python 3 (ipykernel)",
   "language": "python",
   "name": "python3"
  },
  "language_info": {
   "codemirror_mode": {
    "name": "ipython",
    "version": 3
   },
   "file_extension": ".py",
   "mimetype": "text/x-python",
   "name": "python",
   "nbconvert_exporter": "python",
   "pygments_lexer": "ipython3",
   "version": "3.9.9"
  }
 },
 "nbformat": 4,
 "nbformat_minor": 5
}
